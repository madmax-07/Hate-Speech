{
 "cells": [
  {
   "cell_type": "code",
   "execution_count": 3,
   "id": "7fd3fd5d-afbf-453b-95c7-2da4400d26f0",
   "metadata": {},
   "outputs": [],
   "source": [
    "import numpy as np\n",
    "import pandas as pd\n",
    "\n",
    "import gensim\n",
    "import gensim.downloader as gensim_api\n",
    "\n",
    "import transformers"
   ]
  },
  {
   "cell_type": "code",
   "execution_count": 4,
   "id": "add873b6-1c5b-4cdb-8210-c55c088793f0",
   "metadata": {},
   "outputs": [],
   "source": [
    "df=pd.read_csv('clean.csv')"
   ]
  },
  {
   "cell_type": "code",
   "execution_count": 5,
   "id": "82adfb5b-c630-4c90-90b2-35a20aab5d7e",
   "metadata": {},
   "outputs": [
    {
     "name": "stdout",
     "output_type": "stream",
     "text": [
      "[================================================--] 97.0% 364.6/376.1MB downloaded\n"
     ]
    }
   ],
   "source": [
    "nlp = gensim_api.load(\"glove-wiki-gigaword-300\")"
   ]
  },
  {
   "cell_type": "code",
   "execution_count": 6,
   "id": "849cb609-2f16-42d9-9820-e29040d076b7",
   "metadata": {},
   "outputs": [],
   "source": [
    "def similarWords(words, top, nlp):\n",
    "    out = words\n",
    "    for tupl in nlp.most_similar(words, topn=top):\n",
    "        out.append(tupl[0])\n",
    "    return list(set(out))"
   ]
  },
  {
   "cell_type": "code",
   "execution_count": null,
   "id": "61e25ecd-fc70-467f-ae83-e65eae0b598a",
   "metadata": {},
   "outputs": [],
   "source": [
    "clusters={}\n",
    "clusters['HATE']=get_similar_words(['hate'], top=30, nlp=nlp)"
   ]
  }
 ],
 "metadata": {
  "kernelspec": {
   "display_name": "Python 3 (ipykernel)",
   "language": "python",
   "name": "python3"
  },
  "language_info": {
   "codemirror_mode": {
    "name": "ipython",
    "version": 3
   },
   "file_extension": ".py",
   "mimetype": "text/x-python",
   "name": "python",
   "nbconvert_exporter": "python",
   "pygments_lexer": "ipython3",
   "version": "3.9.7"
  }
 },
 "nbformat": 4,
 "nbformat_minor": 5
}
