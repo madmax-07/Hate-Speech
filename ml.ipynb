{
 "cells": [
  {
   "cell_type": "code",
   "execution_count": 22,
   "id": "e1338357",
   "metadata": {},
   "outputs": [],
   "source": [
    "import numpy as np\n",
    "import pandas as pd\n",
    "from sklearn import metrics, manifold\n",
    "from tqdm import tqdm\n",
    "import gensim.downloader as gensim_api\n",
    "import transformers\n",
    "import os\n",
    "import matplotlib.pyplot as plt"
   ]
  },
  {
   "cell_type": "code",
   "execution_count": 2,
   "id": "f630b650",
   "metadata": {},
   "outputs": [
    {
     "name": "stdout",
     "output_type": "stream",
     "text": [
      "0        rt mleew boy dats cold tyga dwn bad for cuffi...\n",
      "1        rt urkindofbrand dawg rt sbaby life you ever ...\n",
      "2        rt c g anderson viva based she look like a tr...\n",
      "3        rt shenikaroberts the shit you hear about me ...\n",
      "4        t madison x the shit just blows me claim you ...\n",
      "                              ...                        \n",
      "3995            msoltan koredeb the witches took them hoe\n",
      "3996     msoltan matt simonson koredeb nvm thought we ...\n",
      "3997     mtbornnard it s got good mojo for sure paybac...\n",
      "3998     m a larson stevestreza you re saying zebras a...\n",
      "3999                              m carbonaro nice pussy \n",
      "Name: clean, Length: 4000, dtype: object\n"
     ]
    }
   ],
   "source": [
    "df=pd.read_csv('output1.csv',nrows=4000)\n",
    "print(df[\"clean\"])"
   ]
  },
  {
   "cell_type": "code",
   "execution_count": 3,
   "id": "d20d523b",
   "metadata": {},
   "outputs": [],
   "source": [
    "nlp = gensim_api.load(\"glove-wiki-gigaword-300\")"
   ]
  },
  {
   "cell_type": "code",
   "execution_count": 4,
   "id": "566cf89d",
   "metadata": {},
   "outputs": [
    {
     "data": {
      "text/plain": [
       "[('slur', 0.5023007392883301),\n",
       " ('niggers', 0.5003144145011902),\n",
       " ('faggot', 0.4708784222602844)]"
      ]
     },
     "execution_count": 4,
     "metadata": {},
     "output_type": "execute_result"
    }
   ],
   "source": [
    "nlp.most_similar([\"nigger\"], topn=3)"
   ]
  },
  {
   "cell_type": "code",
   "execution_count": 5,
   "id": "59d84534",
   "metadata": {},
   "outputs": [],
   "source": [
    "def get_similar_words(lst_words, top, nlp):\n",
    "    lst_out = lst_words\n",
    "    for tupla in nlp.most_similar(lst_words, topn=top):\n",
    "        lst_out.append(tupla[0])\n",
    "    return list(set(lst_out))"
   ]
  },
  {
   "cell_type": "code",
   "execution_count": 6,
   "id": "8c828092",
   "metadata": {},
   "outputs": [],
   "source": [
    "def similarWords(words, top, nlp):\n",
    "    out = words\n",
    "    for tupl in nlp.most_similar(words, topn=top):\n",
    "        out.append(tupl[0])\n",
    "    return list(set(out))"
   ]
  },
  {
   "cell_type": "code",
   "execution_count": 7,
   "id": "29ea95de",
   "metadata": {},
   "outputs": [],
   "source": [
    "clusters={}\n",
    "clusters['HATE']=get_similar_words(['hate'], top=30, nlp=nlp)"
   ]
  },
  {
   "cell_type": "code",
   "execution_count": 8,
   "id": "7e2c7b9e",
   "metadata": {},
   "outputs": [
    {
     "name": "stderr",
     "output_type": "stream",
     "text": [
      "Some layers from the model checkpoint at al were not used when initializing TFDistilBertModel: ['activation_13', 'vocab_transform', 'vocab_layer_norm', 'vocab_projector']\n",
      "- This IS expected if you are initializing TFDistilBertModel from the checkpoint of a model trained on another task or with another architecture (e.g. initializing a BertForSequenceClassification model from a BertForPreTraining model).\n",
      "- This IS NOT expected if you are initializing TFDistilBertModel from the checkpoint of a model that you expect to be exactly identical (initializing a BertForSequenceClassification model from a BertForSequenceClassification model).\n",
      "All the layers of TFDistilBertModel were initialized from the model checkpoint at al.\n",
      "If your task is similar to the task the model of the checkpoint was trained on, you can already use TFDistilBertModel for predictions without further training.\n"
     ]
    }
   ],
   "source": [
    "tokenizer = transformers.DistilBertTokenizer.from_pretrained('al', do_lower_case=True)\n",
    "nlp = transformers.TFDistilBertModel.from_pretrained('al')"
   ]
  },
  {
   "cell_type": "code",
   "execution_count": 9,
   "id": "720989e1",
   "metadata": {},
   "outputs": [],
   "source": [
    "def utils_bert_embedding(txt, tokenizer, nlp):\n",
    "    '''\n",
    "    Word embedding with Bert (equivalent to nlp[\"word\"]).\n",
    "    :parameter\n",
    "        :param txt: string \n",
    "        :param tokenizer: transformers tokenizer\n",
    "        :param nlp: transformers bert\n",
    "    :return\n",
    "        tensor sentences x words x vector (1x3x768) \n",
    "    '''\n",
    "    # tokenize sentence to tokens (integers)\n",
    "    idx = tokenizer.encode(txt)\n",
    "    # convert to array of shape (1, num_words+2) - EOS and CLS added\n",
    "    idx = np.array(idx)[None,:]\n",
    "    # generate embeddings for each token - output is a tuple\n",
    "    embedding = nlp(idx)\n",
    "    # select first member of the tuple, remove first dimension which is 1 to get (num_words,embedding size 712)\n",
    "    # exclude CLS and EOS tokens\n",
    "    X = np.array(embedding[0][0][1:-1])\n",
    "    return X"
   ]
  },
  {
   "cell_type": "code",
   "execution_count": 10,
   "id": "ead26562",
   "metadata": {},
   "outputs": [
    {
     "name": "stderr",
     "output_type": "stream",
     "text": [
      "100%|██████████████████████████████████████████████████████████████████████████████| 4000/4000 [15:15<00:00,  4.37it/s]"
     ]
    },
    {
     "name": "stdout",
     "output_type": "stream",
     "text": [
      "Wall time: 15min 15s\n"
     ]
    },
    {
     "name": "stderr",
     "output_type": "stream",
     "text": [
      "\n"
     ]
    }
   ],
   "source": [
    "%%time\n",
    "## create list of news vector\n",
    "lst_mean_vecs = [utils_bert_embedding(txt, tokenizer, nlp).mean(0) for txt in tqdm(df[\"clean\"])]"
   ]
  },
  {
   "cell_type": "code",
   "execution_count": 11,
   "id": "e2d7f087",
   "metadata": {},
   "outputs": [
    {
     "data": {
      "text/plain": [
       "(4000, 768)"
      ]
     },
     "execution_count": 11,
     "metadata": {},
     "output_type": "execute_result"
    }
   ],
   "source": [
    "X = np.array(lst_mean_vecs)\n",
    "X.shape"
   ]
  },
  {
   "cell_type": "code",
   "execution_count": 12,
   "id": "e6275923",
   "metadata": {},
   "outputs": [],
   "source": [
    "np.savetxt(\"mean_vec.csv\", X, delimiter=\"/\")"
   ]
  },
  {
   "cell_type": "code",
   "execution_count": 13,
   "id": "fb93a8fc",
   "metadata": {},
   "outputs": [
    {
     "name": "stdout",
     "output_type": "stream",
     "text": [
      "[[-2.56808370e-01  2.32406840e-01  1.69656605e-01 ... -8.87778848e-02\n",
      "   1.40191754e-02  1.45572618e-01]\n",
      " [ 8.45624730e-02  3.25855941e-01  4.16700900e-01 ... -1.73627079e-01\n",
      "   2.83790618e-01 -5.14129251e-02]\n",
      " [ 2.25455880e-01 -2.60253102e-01  3.21632028e-01 ... -3.30394179e-01\n",
      "   1.92198440e-01  1.67761743e-01]\n",
      " ...\n",
      " [ 1.43120185e-01  1.55305579e-01  3.58505338e-01 ... -1.13864124e-01\n",
      "   1.88397214e-01 -3.04630812e-04]\n",
      " [ 9.60611254e-02  8.89073536e-02  2.41476282e-01 ...  4.43981290e-02\n",
      "   1.34531409e-01  1.73412785e-01]\n",
      " [ 8.62215906e-02 -2.67725110e-01  4.67932045e-01 ...  6.54157391e-03\n",
      "  -4.68252897e-02  1.25600457e-01]]\n"
     ]
    }
   ],
   "source": [
    "print(X)"
   ]
  },
  {
   "cell_type": "code",
   "execution_count": 14,
   "id": "de874b31",
   "metadata": {},
   "outputs": [
    {
     "name": "stdout",
     "output_type": "stream",
     "text": [
      "[[-2.56808370e-01  2.32406840e-01  1.69656605e-01 ... -8.87778848e-02\n",
      "   1.40191754e-02  1.45572618e-01]\n",
      " [ 8.45624730e-02  3.25855941e-01  4.16700900e-01 ... -1.73627079e-01\n",
      "   2.83790618e-01 -5.14129251e-02]\n",
      " [ 2.25455880e-01 -2.60253102e-01  3.21632028e-01 ... -3.30394179e-01\n",
      "   1.92198440e-01  1.67761743e-01]\n",
      " ...\n",
      " [ 1.43120185e-01  1.55305579e-01  3.58505338e-01 ... -1.13864124e-01\n",
      "   1.88397214e-01 -3.04630812e-04]\n",
      " [ 9.60611254e-02  8.89073536e-02  2.41476282e-01 ...  4.43981290e-02\n",
      "   1.34531409e-01  1.73412785e-01]\n",
      " [ 8.62215906e-02 -2.67725110e-01  4.67932045e-01 ...  6.54157391e-03\n",
      "  -4.68252897e-02  1.25600457e-01]]\n"
     ]
    }
   ],
   "source": [
    "from numpy import genfromtxt\n",
    "my_data = genfromtxt('mean_vec.csv', delimiter='/')\n",
    "print(my_data)"
   ]
  },
  {
   "cell_type": "code",
   "execution_count": 15,
   "id": "2c80376f",
   "metadata": {},
   "outputs": [
    {
     "name": "stderr",
     "output_type": "stream",
     "text": [
      "100%|████████████████████████████████████████████████████████████████████████████████████| 1/1 [00:00<00:00,  3.13it/s]\n"
     ]
    }
   ],
   "source": [
    "dic_y = {k:utils_bert_embedding(v, tokenizer, nlp).mean(0) for k,v in tqdm(clusters.items())}"
   ]
  },
  {
   "cell_type": "code",
   "execution_count": 16,
   "id": "babaae28",
   "metadata": {},
   "outputs": [
    {
     "name": "stdout",
     "output_type": "stream",
     "text": [
      "dict_values([array([ 2.53705651e-01,  2.00686127e-01,  1.13013640e-01, -2.78772235e-01,\n",
      "       -3.89851406e-02, -1.97280705e-01,  5.36987424e-01,  2.47883216e-01,\n",
      "       -1.66301895e-02, -2.60325402e-01,  1.39833346e-01, -2.47734636e-01,\n",
      "       -2.17199594e-01,  1.09143760e-02,  5.52281514e-02,  5.93813732e-02,\n",
      "        8.37251469e-02,  1.56362236e-01, -1.90861642e-01,  5.56159973e-01,\n",
      "        1.59280896e-01,  1.94304600e-01, -1.28588274e-01, -3.84311490e-02,\n",
      "        1.99816599e-01,  3.47130239e-01,  4.82159019e-01, -2.54657030e-01,\n",
      "       -2.07983926e-01, -2.28204906e-01,  6.39776051e-01,  1.69228092e-01,\n",
      "        9.33268815e-02,  1.02556892e-01, -9.72913727e-02,  1.04299232e-01,\n",
      "        3.43436636e-02,  2.09560081e-01,  1.58253461e-01,  2.35363394e-01,\n",
      "       -4.60688561e-01, -3.55075419e-01,  4.83657196e-02,  3.18932861e-01,\n",
      "       -3.77309978e-01, -4.21153814e-01, -3.12134206e-01,  1.40632719e-01,\n",
      "        1.70946091e-01, -2.40436107e-01, -4.38368283e-02,  2.16800869e-01,\n",
      "       -1.49199203e-01, -2.44310349e-01, -1.47640720e-01,  4.92489040e-01,\n",
      "       -1.74234081e-02, -4.12413001e-01, -3.35156858e-01, -2.84383029e-01,\n",
      "        1.68013543e-01, -1.15273625e-01,  2.26192959e-02, -1.23590663e-01,\n",
      "        1.28889736e-02,  3.92121196e-01, -7.95489103e-02,  7.60542512e-01,\n",
      "       -5.41062176e-01, -5.07668078e-01, -1.18345866e-04, -1.55252531e-01,\n",
      "       -1.65641665e-01,  3.74870837e-01, -2.02655882e-01, -1.07208714e-01,\n",
      "       -4.82158571e-01,  1.74395055e-01,  1.17915325e-01,  9.77131650e-02,\n",
      "       -3.36370289e-01,  6.73554698e-03, -2.86608398e-01,  3.30582231e-01,\n",
      "       -3.87166739e-02, -4.43199463e-02,  3.84889185e-01,  4.95532840e-01,\n",
      "       -1.92619845e-01,  3.25766921e-01,  5.10727763e-01, -2.57447958e-01,\n",
      "        3.35453331e-01, -1.43572062e-01,  9.42543000e-02,  2.51055986e-01,\n",
      "        1.82545871e-01,  4.70629305e-01, -6.16825037e-02,  1.60189718e-01,\n",
      "        1.09873526e-02, -3.14451277e-01,  1.40811741e-01,  1.06292449e-01,\n",
      "       -3.66471738e-01, -1.23643100e-01, -1.19128123e-01,  3.06586564e-01,\n",
      "       -6.58076629e-03,  4.07385267e-02, -2.10445069e-04, -1.20690614e-01,\n",
      "       -2.00585261e-01, -1.82262331e-01, -3.20561975e-01,  1.06618159e-01,\n",
      "       -3.07373345e-01, -2.95549631e-01,  4.80325706e-02,  1.70869172e-01,\n",
      "        4.55473317e-03, -3.29527497e-01, -1.07019760e-01,  6.61135375e-01,\n",
      "        9.49031040e-02,  1.11002050e-01, -2.99141377e-01,  1.93232566e-01,\n",
      "       -1.99654356e-01,  1.08348198e-01,  1.15766443e-01,  3.93906444e-01,\n",
      "       -1.88872144e-02, -2.21370265e-01,  2.28943065e-01, -4.16708589e-01,\n",
      "        7.84149673e-03, -1.22187532e-01, -3.09266776e-01, -4.96735603e-01,\n",
      "        2.17053443e-01,  1.73218340e-01,  1.16954982e-01,  5.01861162e-02,\n",
      "       -7.08395392e-02, -5.17835319e-02, -3.82813185e-01, -1.02804720e-01,\n",
      "        2.20044881e-01, -1.55299485e-01, -1.50468230e-01,  1.01654798e-01,\n",
      "       -8.14882591e-02, -2.70461828e-01, -2.81354129e-01,  7.29531571e-02,\n",
      "       -1.40364334e-01, -2.73715019e-01, -3.00671663e-02,  1.23811185e-01,\n",
      "        2.80179679e-01,  3.90782580e-02, -2.58377880e-01,  3.19079965e-01,\n",
      "        5.04063740e-02, -7.16942400e-02,  1.91935189e-02,  2.09359005e-01,\n",
      "       -2.96880752e-01, -2.21648142e-01, -1.86065316e-01, -1.42771795e-01,\n",
      "        6.39226139e-01,  1.00767657e-01, -7.85710290e-02, -7.42004961e-02,\n",
      "       -3.50731723e-02, -3.34346175e-01, -9.74024087e-03,  4.34187353e-01,\n",
      "       -2.50085711e-01,  3.39988977e-01, -3.58830035e-01,  2.42350280e-01,\n",
      "        3.45745355e-01,  1.46200553e-01, -6.44518901e-03,  4.81208451e-02,\n",
      "        2.58192748e-01,  1.51665151e-01, -6.00486457e-01, -2.39884958e-01,\n",
      "       -3.27390134e-01, -2.04854235e-02,  3.67260605e-01, -3.19953412e-01,\n",
      "       -1.32926375e-01, -9.20432359e-02, -1.74823161e-02, -1.03585958e-01,\n",
      "        9.47797447e-02, -8.82165208e-02,  2.46341646e-01,  2.26477876e-01,\n",
      "       -9.20232907e-02, -3.05560548e-02,  2.02860534e-01,  6.12144992e-02,\n",
      "       -2.31200188e-01, -1.08844768e-02, -2.74785846e-01,  6.43333234e-03,\n",
      "        3.49406362e-01,  1.01301163e-01,  5.03891893e-02, -3.94889340e-02,\n",
      "        6.49359170e-03, -1.42595619e-01,  1.13340050e-01,  1.37058541e-01,\n",
      "        2.22712923e-02, -5.07968843e-01, -3.56166571e-01,  2.90467590e-01,\n",
      "       -2.18135402e-01,  5.42352200e-01,  7.64710605e-01, -4.98465240e-01,\n",
      "        1.92919061e-01, -1.95403211e-02, -3.15366201e-02, -1.28668532e-01,\n",
      "        5.90873003e-01, -5.14395386e-02, -1.78226680e-01,  6.64035305e-02,\n",
      "        2.68447101e-01, -3.32990229e-01, -1.55619755e-02, -3.67106676e-01,\n",
      "       -6.09531440e-02,  1.97264895e-01,  1.37783408e-01, -9.08871591e-02,\n",
      "       -1.58898950e-01, -1.19556226e-01, -1.27659459e-02, -4.13268358e-01,\n",
      "       -1.16638727e-01,  1.95197836e-02,  5.72091946e-03, -3.23529355e-02,\n",
      "       -5.78803418e-04, -3.28522652e-01,  1.93733513e-01, -3.45960081e-01,\n",
      "        2.35747606e-01,  5.04014343e-02, -2.03514136e-02, -9.62077528e-02,\n",
      "        2.55428702e-01, -3.49127986e-02,  3.37099373e-01,  1.36211827e-01,\n",
      "       -1.30359620e-01,  6.95278347e-02,  2.09272847e-01,  4.46869105e-01,\n",
      "        3.50571305e-01,  2.16089457e-01, -1.67000219e-01,  1.56180218e-01,\n",
      "        4.32383344e-02,  6.90158606e-01, -4.89702463e-01, -1.51041551e-02,\n",
      "        2.11987406e-01,  5.12556791e-01, -2.79383689e-01, -4.42930818e-01,\n",
      "       -5.72188981e-02,  7.62019232e-02, -1.37826130e-01, -3.81588370e-01,\n",
      "        2.18010068e-01, -2.92337567e-01,  1.33294359e-01,  8.76758099e-02,\n",
      "       -2.57866114e-01,  1.50990039e-01, -1.19798854e-01,  4.97532129e-01,\n",
      "       -3.71275730e-02, -4.11030263e-01,  3.90966445e-01, -5.26884869e-02,\n",
      "        1.15821496e-01,  2.64408827e-01,  8.76700282e-01, -3.62265229e-01,\n",
      "        1.04574278e-01, -3.30130979e-02, -3.28799814e-01, -5.36780804e-02,\n",
      "        6.36197552e-02,  1.79795966e-01,  3.07249762e-02,  1.12836100e-01,\n",
      "       -4.63739920e+00,  9.96152032e-03,  1.02647357e-01,  5.88003136e-02,\n",
      "        1.12554237e-01, -1.41380563e-01,  1.98427334e-01,  4.09149639e-02,\n",
      "       -1.98971123e-01, -8.25438201e-02, -1.05887331e-01,  4.71813716e-02,\n",
      "        2.11379379e-01,  5.27118472e-03, -1.01035006e-01, -1.12243555e-01,\n",
      "        7.05706179e-01, -2.59080827e-01, -2.88960695e-01,  6.93805993e-01,\n",
      "       -3.80392939e-01,  1.17615312e-01,  1.28433377e-01,  2.10019499e-01,\n",
      "        3.88863534e-01,  6.13771200e-01,  1.41422078e-01,  2.03688145e-01,\n",
      "       -6.90462366e-02, -4.88301106e-02,  4.11061663e-03, -6.98216930e-02,\n",
      "        1.10470921e-01,  5.50010145e-01, -1.05604678e-01, -2.11676583e-01,\n",
      "       -8.37230980e-02, -3.89613479e-01, -2.74841487e-01,  1.04230218e-01,\n",
      "       -2.81578958e-01, -6.77097678e-01, -1.35265231e-01,  2.28877321e-01,\n",
      "        3.96490008e-01, -5.20975351e-01, -2.51220405e-01, -1.26693785e-01,\n",
      "       -1.88998282e-01, -9.09142792e-02, -3.81887630e-02,  1.54409930e-01,\n",
      "       -3.13335270e-01,  9.99967903e-02,  4.21983078e-02,  3.91383201e-01,\n",
      "        4.72259521e-01,  5.73641658e-01, -5.68807960e-01, -5.32966733e-01,\n",
      "        3.24766785e-01,  1.35557741e-01, -8.21581900e-01,  1.83563784e-01,\n",
      "       -2.45249003e-01, -2.07487419e-01, -5.70167899e-01, -5.81134498e-01,\n",
      "       -4.46496964e-01,  3.03443491e-01, -4.73739296e-01,  2.90468872e-01,\n",
      "        2.66759455e-01, -3.88225824e-01,  1.87110677e-01,  3.76776963e-01,\n",
      "       -1.47973672e-01, -1.02117322e-01,  4.82318848e-02, -6.64678663e-02,\n",
      "       -2.46128172e-01,  2.74023972e-02,  1.18445456e-01,  1.39629781e-01,\n",
      "       -1.33396477e-01, -1.80361614e-01,  2.10994795e-01,  1.36063918e-01,\n",
      "       -1.53119892e-01,  1.23827159e-01,  4.51415598e-01,  4.18742001e-02,\n",
      "        3.52266431e-01, -6.87739113e-03,  5.20694315e-01,  3.31282347e-01,\n",
      "        3.01686525e-01, -3.99808466e-01,  2.45372683e-01, -1.96351781e-01,\n",
      "        4.02492970e-01, -1.42900720e-01, -9.15119573e-02, -2.73095787e-01,\n",
      "        7.56304264e-02, -3.40061449e-02,  2.39096005e-02,  2.91828901e-01,\n",
      "        1.84048936e-01, -9.16081071e-02,  1.63522795e-01, -2.06002966e-01,\n",
      "        1.66864812e-01,  3.56071770e-01, -3.51141430e-02, -5.41108966e-01,\n",
      "        3.53515416e-01,  1.44318104e-01, -6.54398277e-02,  2.02451661e-01,\n",
      "       -3.68571013e-01,  3.84898931e-01, -6.88665271e-01, -5.80877602e-01,\n",
      "       -6.74524903e-01,  3.15856308e-01, -3.16545889e-02, -2.84066591e-02,\n",
      "       -4.21299040e-02,  2.26280406e-01,  2.43403763e-01, -3.23589593e-01,\n",
      "       -7.92477876e-02,  1.05492370e-02,  1.69999853e-01, -3.48498067e-03,\n",
      "       -1.76759779e-01, -2.10708782e-01, -6.86878920e-01, -8.16785172e-02,\n",
      "        5.21493375e-01,  4.91296016e-02, -8.73375162e-02,  3.37531827e-02,\n",
      "        2.46784791e-01,  1.34714440e-01, -5.15718102e-01, -1.22183017e-01,\n",
      "        1.02947034e-01,  1.73031256e-01, -2.62048393e-01, -7.28585303e-01,\n",
      "        1.68072015e-01, -2.89237320e-01, -2.70688254e-02,  2.85268843e-01,\n",
      "        1.38924897e-01,  1.25700757e-01, -2.03129575e-01, -2.73684263e-01,\n",
      "        3.01857889e-01, -1.64918676e-01, -9.92201548e-03,  3.54645669e-01,\n",
      "       -1.78865835e-01,  3.34763944e-01, -3.93780768e-02,  7.76003227e-02,\n",
      "        2.07481727e-01,  2.68825978e-01, -1.43476799e-01, -1.25611410e-01,\n",
      "       -4.56757843e-02,  1.60302117e-01, -2.20852360e-01,  2.69539475e-01,\n",
      "       -7.84465373e-02,  1.59551587e-03, -2.86018431e-01,  3.33579272e-01,\n",
      "       -6.76465333e-02, -9.79593098e-02, -3.98340374e-01,  9.83093586e-03,\n",
      "        3.17772001e-01,  2.59152681e-01, -1.03002589e-03, -3.19559723e-01,\n",
      "        4.55374755e-02,  2.48118073e-01, -3.51879865e-01, -1.90445140e-01,\n",
      "        6.87588081e-02, -2.12749973e-01, -2.28595771e-02, -2.43587077e-01,\n",
      "        3.39471877e-01, -5.94921708e-01,  9.57998168e-03,  4.18946952e-01,\n",
      "        1.72564521e-01,  2.92777061e-01,  4.48213547e-01, -8.46381411e-02,\n",
      "        1.94286376e-01, -4.06043380e-01,  5.48009165e-02,  1.27516557e-02,\n",
      "        2.28772134e-01,  1.02971286e-01, -1.83223188e-01, -4.24471736e-01,\n",
      "       -3.59908432e-01, -4.64708731e-02,  1.36220321e-01, -2.30209321e-01,\n",
      "        1.79754913e-01, -2.08560273e-01, -2.77381241e-01,  1.79637391e-02,\n",
      "       -2.25431427e-01, -4.02985327e-02, -2.30564311e-01,  5.92782199e-02,\n",
      "       -1.12038791e-01, -5.10551706e-02, -2.33674467e-01, -7.84565136e-03,\n",
      "       -3.86279285e-01, -1.80718482e-01, -6.05150126e-02, -2.47972682e-01,\n",
      "       -4.98892777e-02,  1.97154954e-01, -6.69042915e-02,  1.90711822e-02,\n",
      "        2.34431744e-01, -1.52083874e-01,  1.19272009e-01,  4.25561033e-02,\n",
      "       -5.32169156e-02,  7.70508274e-02, -9.94478911e-03, -6.06396437e-01,\n",
      "        3.64121437e-01,  4.89616901e-01, -2.00905129e-01,  1.07417166e-01,\n",
      "       -3.15468758e-01,  2.30020657e-01, -2.00221837e-01,  1.94266394e-01,\n",
      "       -2.17590153e-01, -4.81032133e-01,  1.47356853e-01, -5.57437181e-01,\n",
      "       -1.22393481e-01,  3.58937353e-01, -2.45222345e-01,  7.69258961e-02,\n",
      "       -4.11364198e-01,  1.63175628e-01,  3.01215291e-01, -2.85575062e-01,\n",
      "       -1.10182337e-01,  1.79220870e-01,  3.63956153e-01,  3.93586248e-01,\n",
      "        6.16136938e-02, -3.00377965e-01, -3.40097815e-01, -1.94791481e-01,\n",
      "       -4.83926618e-03, -1.80662379e-01, -1.47888467e-01,  1.44445062e-01,\n",
      "       -5.99765122e-01, -2.42219016e-01, -2.84426987e-01, -3.76768440e-01,\n",
      "       -1.67423531e-01, -2.74433643e-01,  1.66693300e-01, -1.25727534e-01,\n",
      "        5.31279385e-01,  4.20817249e-02,  9.64749753e-02,  2.67267913e-01,\n",
      "       -1.96148738e-01, -3.29163969e-01,  2.67940938e-01, -7.96376541e-02,\n",
      "        9.82217118e-02, -3.17749642e-02, -2.27989614e-01,  3.87429446e-01,\n",
      "        2.18917146e-01,  1.78941533e-01, -1.01547301e-01, -8.92908797e-02,\n",
      "       -1.63477823e-01,  2.41492078e-01,  1.29081562e-01,  1.53319180e-01,\n",
      "       -1.94039773e-02, -1.07483231e-02,  9.32210609e-02, -6.87024236e-01,\n",
      "        1.97161168e-01,  2.65764475e-01, -1.21186800e-01, -1.35593101e-01,\n",
      "        4.78646666e-01,  3.98573041e-01,  1.55178934e-01, -2.11734653e-01,\n",
      "       -1.84585229e-01, -4.15639579e-01, -9.86926258e-02,  1.15951829e-01,\n",
      "       -7.59621263e-02,  9.85259339e-02,  7.28055716e-01,  1.70650497e-01,\n",
      "       -7.04194009e-02, -1.68060035e-01, -5.03911197e-01,  3.54149014e-01,\n",
      "        2.50985056e-01,  2.91878998e-01,  1.93025880e-02, -4.83290292e-02,\n",
      "        1.79714784e-01,  1.65656164e-01, -3.32112946e-02, -2.78923392e-01,\n",
      "       -4.22077067e-02, -2.29684323e-01,  2.42094949e-01, -1.06722556e-01,\n",
      "        2.05882519e-01,  1.36534676e-01,  2.44514853e-01, -1.06256835e-01,\n",
      "        2.53683776e-01,  2.24897340e-02, -7.77193680e-02, -2.36973494e-01,\n",
      "        7.89376736e-01,  2.13123739e-01,  2.87189066e-01,  3.07901561e-01,\n",
      "       -3.71976525e-01,  2.66925275e-01,  1.29963309e-01,  1.61747143e-01,\n",
      "       -3.55321467e-02,  2.43757993e-01, -1.52658205e-03,  3.80108505e-01,\n",
      "        9.99143273e-02,  1.75922334e-01,  4.45337668e-02, -1.63673714e-01,\n",
      "       -1.61609814e-01,  6.20620586e-02,  3.46831232e-02, -6.05679929e-01,\n",
      "       -3.85197818e-01,  1.79844543e-01, -4.18999970e-01, -1.16902716e-01,\n",
      "        1.78698689e-01, -2.62118697e-01, -4.39884104e-02,  5.87869100e-02,\n",
      "       -4.38418835e-01, -2.25614414e-01, -2.77089149e-01,  4.12423573e-02,\n",
      "       -1.86709523e-01,  1.25112444e-01, -3.53232063e-02, -3.11337590e-01,\n",
      "        1.29058473e-02, -3.10366333e-01, -7.22629428e-02, -8.64656270e-02,\n",
      "       -7.57391900e-02, -1.34607911e-01, -1.09011754e-01,  2.45036796e-01,\n",
      "        4.09375988e-02, -7.28458464e-02,  4.37804908e-02, -9.86187905e-02,\n",
      "       -5.06571054e-01,  1.17319122e-01,  5.24907589e-01,  3.72453988e-01,\n",
      "        3.99085641e-01, -1.40502632e-01,  1.49466664e-01,  1.48270756e-01,\n",
      "       -1.30726203e-01, -5.86286299e-02, -2.99258620e-01,  5.83151281e-01,\n",
      "       -5.77141166e-01,  9.51436907e-03,  4.12909873e-02, -8.24978799e-02,\n",
      "       -3.20788682e-01,  2.33871102e-01, -1.43403664e-01,  3.95204008e-01,\n",
      "        2.46649496e-02, -1.08157083e-01, -7.86901265e-02,  2.29381517e-01,\n",
      "       -5.10888219e-01, -3.53971124e-01,  6.27170876e-02,  3.58925551e-01,\n",
      "       -1.32729918e-01,  2.66600121e-02, -1.43549085e-01, -5.42066582e-02,\n",
      "       -4.53796238e-02, -2.66615544e-02, -6.25927508e-01,  1.83398366e-01,\n",
      "        5.98728321e-02,  1.21858619e-01, -2.37211406e-01, -2.23362610e-01,\n",
      "        1.36768343e-02,  1.44673297e-02, -2.01569498e-01,  1.00101247e-01,\n",
      "        5.21918714e-01,  2.52439678e-01, -2.59428918e-01,  2.31651396e-01,\n",
      "        4.69911665e-01,  3.12475175e-01,  1.98544756e-01, -1.97468147e-01,\n",
      "       -1.05357587e-01, -1.32873267e-01,  3.21932852e-01, -8.35978240e-02,\n",
      "        3.13021064e-01, -2.13574573e-01, -2.94523071e-02,  2.02816054e-01,\n",
      "        2.06307843e-01, -2.91091830e-01,  6.03848696e-02, -1.94538459e-01],\n",
      "      dtype=float32)])\n"
     ]
    }
   ],
   "source": [
    "print(dic_y.values())"
   ]
  },
  {
   "cell_type": "code",
   "execution_count": 17,
   "id": "dfb50f78",
   "metadata": {},
   "outputs": [],
   "source": [
    "similarities = np.array(\n",
    "            [metrics.pairwise.cosine_similarity(X, [dic_y['HATE']]).T.tolist()[0]]\n",
    "            ).T"
   ]
  },
  {
   "cell_type": "code",
   "execution_count": 18,
   "id": "800d2ca8-bd20-42f5-bfd2-fda19c381fd8",
   "metadata": {},
   "outputs": [
    {
     "name": "stdout",
     "output_type": "stream",
     "text": [
      "[[0.61130393]\n",
      " [0.73238176]\n",
      " [0.67944461]\n",
      " ...\n",
      " [0.64469039]\n",
      " [0.68099171]\n",
      " [0.5732342 ]]\n"
     ]
    }
   ],
   "source": [
    "print(similarities)"
   ]
  },
  {
   "cell_type": "code",
   "execution_count": 29,
   "id": "2e3b189c-c45f-4511-b737-2710efd11312",
   "metadata": {},
   "outputs": [
    {
     "name": "stdout",
     "output_type": "stream",
     "text": [
      "[[1.        ]\n",
      " [0.73238176]\n",
      " [0.67944461]\n",
      " ...\n",
      " [0.64469039]\n",
      " [0.68099171]\n",
      " [0.5732342 ]]\n"
     ]
    }
   ],
   "source": [
    "labels=list(dic_y.keys())\n",
    "similarities[0]=similarities[0]/sum(similarities[0])"
   ]
  },
  {
   "cell_type": "code",
   "execution_count": 32,
   "id": "b8f05a04-c932-462a-b282-b4a00e34601e",
   "metadata": {},
   "outputs": [
    {
     "data": {
      "image/png": "[encoded data removed]",
      "text/plain": [
       "<Figure size 432x288 with 1 Axes>"
      ]
     },
     "metadata": {
      "needs_background": "light"
     },
     "output_type": "display_data"
    }
   ],
   "source": [
    "y=[]\n",
    "for similarity in similarities:\n",
    "    y.append(similarity[0])\n",
    "\n",
    "x=np.arange(df.shape[0])\n",
    "plt.bar(x,height=y)\n",
    "plt.show()"
   ]
  },
  {
   "cell_type": "code",
   "execution_count": null,
   "id": "323ac17a-2bfa-4b3f-a96f-3cbd756ad0c5",
   "metadata": {},
   "outputs": [],
   "source": []
  }
 ],
 "metadata": {
  "kernelspec": {
   "display_name": "Python 3 (ipykernel)",
   "language": "python",
   "name": "python3"
  },
  "language_info": {
   "codemirror_mode": {
    "name": "ipython",
    "version": 3
   },
   "file_extension": ".py",
   "mimetype": "text/x-python",
   "name": "python",
   "nbconvert_exporter": "python",
   "pygments_lexer": "ipython3",
   "version": "3.9.7"
  }
 },
 "nbformat": 4,
 "nbformat_minor": 5
}
